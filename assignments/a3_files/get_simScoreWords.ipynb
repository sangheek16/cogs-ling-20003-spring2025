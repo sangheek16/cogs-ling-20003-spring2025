{
  "cells": [
    {
      "cell_type": "markdown",
      "source": [
        "References:\n",
        "- https://radimrehurek.com/gensim/downloader.html\n",
        "- https://www.nltk.org/howto/gensim.html"
      ],
      "metadata": {
        "id": "khk6DO8FKyX-"
      },
      "id": "khk6DO8FKyX-"
    },
    {
      "cell_type": "markdown",
      "source": [
        "# Install and import\n",
        "After installing `gensim`, restart the session. You can do this by Runtime > Restart session."
      ],
      "metadata": {
        "id": "a1vj-roZKadD"
      },
      "id": "a1vj-roZKadD"
    },
    {
      "cell_type": "code",
      "source": [
        "!pip install gensim\n",
        "# !pip install scipy\n",
        "# !pip install numpy"
      ],
      "metadata": {
        "id": "kDoPilGoA9GO"
      },
      "id": "kDoPilGoA9GO",
      "execution_count": null,
      "outputs": []
    },
    {
      "cell_type": "code",
      "source": [
        "# !pip show gensim | grep Version # 4.3.3\n",
        "# !pip show numpy | grep Version # 1.26.4\n",
        "# !pip show scipy | grep Version  # 1.13.1"
      ],
      "metadata": {
        "id": "lv8yVPPkG3nd"
      },
      "id": "lv8yVPPkG3nd",
      "execution_count": null,
      "outputs": []
    },
    {
      "cell_type": "code",
      "execution_count": null,
      "id": "fa894fdf",
      "metadata": {
        "id": "fa894fdf"
      },
      "outputs": [],
      "source": [
        "import gensim.downloader as api # If this gives you an error, Runtime > Restart session\n",
        "from scipy.spatial.distance import cosine\n",
        "from google.colab import files"
      ]
    },
    {
      "cell_type": "markdown",
      "source": [
        "# Setup variable and model names"
      ],
      "metadata": {
        "id": "Yp7CZEM_K9MD"
      },
      "id": "Yp7CZEM_K9MD"
    },
    {
      "cell_type": "code",
      "execution_count": null,
      "id": "0b061bfa",
      "metadata": {
        "id": "0b061bfa"
      },
      "outputs": [],
      "source": [
        "# TODO: Change this to YOUR \"LASTNAME_FIRSTNAME\"\n",
        "YOUR_NAME = 'KIM_SANGHEE'"
      ]
    },
    {
      "cell_type": "code",
      "source": [
        "# Set output file name\n",
        "# TODO: Change the file name\n",
        "_FILE_NAME = 'similarity-scores'\n",
        "# _FILE_NAME = 'unRelated-words'"
      ],
      "metadata": {
        "id": "YnoeB5WIPB8H"
      },
      "id": "YnoeB5WIPB8H",
      "execution_count": null,
      "outputs": []
    },
    {
      "cell_type": "code",
      "execution_count": null,
      "id": "bff10748",
      "metadata": {
        "id": "bff10748"
      },
      "outputs": [],
      "source": [
        "# Load pre-trained model\n",
        "\n",
        "# TODO: Choose one of the three models:\n",
        "model_name = \"glove-twitter-25\"\n",
        "# model_name = \"glove-wiki-gigaword-50\"\n",
        "# model_name = \"word2vec-google-news-300\"\n",
        "\n",
        "model = api.load(model_name)"
      ]
    },
    {
      "cell_type": "markdown",
      "source": [
        "# Task 1. Calculte similarity score"
      ],
      "metadata": {
        "id": "I0pnWFz5LPti"
      },
      "id": "I0pnWFz5LPti"
    },
    {
      "cell_type": "code",
      "source": [
        "model.most_similar('queen')"
      ],
      "metadata": {
        "id": "Mh0cNNVWtsRE"
      },
      "id": "Mh0cNNVWtsRE",
      "execution_count": null,
      "outputs": []
    },
    {
      "cell_type": "code",
      "source": [
        "# Insert words\n",
        "word1, word2 = 'queen', 'princess'\n",
        "# word1, word2 = 'cold', 'hot' # Surprise!\n",
        "\n",
        "# Get embeddings\n",
        "vector1, vector2 = model[word1], model[word2]\n",
        "\n",
        "# Print embeddings\n",
        "print(f\"Embeddings of '{word1}': {vector1} \\n\")\n",
        "print(f\"Embeddings of '{word2}': {vector2} \\n\")\n",
        "\n",
        "# Get similarity score\n",
        "cos_distance = cosine(vector1, vector2) # This is 1 - cosine_similarity; range [0, 2]\n",
        "cos_similarity = 1 - cos_distance # range [-1, 1]\n",
        "print(cos_similarity)\n",
        "\n",
        "# print('\\n')\n",
        "# print(model.similarity(word1, word2)) # NOTE: this is a built-in function; Don't use this for assignments"
      ],
      "metadata": {
        "id": "09GprHrIOuDC"
      },
      "id": "09GprHrIOuDC",
      "execution_count": null,
      "outputs": []
    },
    {
      "cell_type": "markdown",
      "source": [
        "## Assign word pairs"
      ],
      "metadata": {
        "id": "QR3i-u74PhE-"
      },
      "id": "QR3i-u74PhE-"
    },
    {
      "cell_type": "code",
      "execution_count": null,
      "id": "cbf621b2",
      "metadata": {
        "id": "cbf621b2"
      },
      "outputs": [],
      "source": [
        "# TODO: Include all the word pairs (sem, phn, unr) you manually created\n",
        "\n",
        "word_pairs = [\n",
        "    (\"shark\", \"whale\"),\n",
        "    (\"shark\", \"butter\"),\n",
        "    (\"mile\", \"inch\"),\n",
        "    (\"mile\", \"fork\")\n",
        "\n",
        "\n",
        "\n",
        "    ]"
      ]
    },
    {
      "cell_type": "markdown",
      "source": [
        "## Get word pair similarity scores"
      ],
      "metadata": {
        "id": "Eps42tSbL4qp"
      },
      "id": "Eps42tSbL4qp"
    },
    {
      "cell_type": "code",
      "execution_count": null,
      "id": "70681a7a",
      "metadata": {
        "id": "70681a7a"
      },
      "outputs": [],
      "source": [
        "# Open a file to save output\n",
        "\n",
        "# NOTE: Before you run this code\n",
        "#       Make sure you have set the correct _FILE_NAME\n",
        "#       Check the variable under the 'Setup' section\n",
        "\n",
        "with open(f\"{_FILE_NAME}.txt\", \"w\") as f:\n",
        "\n",
        "    f.write(f\"* -- Submission by {YOUR_NAME} -- *\\n\")\n",
        "    f.write(f\"* -- Selected model: {model_name} -- *\\n\")\n",
        "\n",
        "    for word1, word2 in word_pairs:\n",
        "        # Check if words exist in the vocabulary\n",
        "        if word1 in model and word2 in model:\n",
        "            # Get word vectors\n",
        "            vec1 = model[word1]\n",
        "            vec2 = model[word2]\n",
        "\n",
        "            # Compute similarity\n",
        "            cosine_distance = cosine(vec1, vec2) # 1 - cosine_similarity; range: [0,2]\n",
        "            cosine_similarity = 1 - cosine(vec1, vec2)  # range: [-1, 1]\n",
        "\n",
        "            # Print score\n",
        "            output = f\"Similarity score between '{word1}' and '{word2}': {cosine_similarity:.4f}\"\n",
        "            print(output)\n",
        "            f.write(output + \"\\n\")\n",
        "\n",
        "        # If words don't exist in the vocabulary\n",
        "        else:\n",
        "            print(f\"Word '{word1}' or '{word2}' not in dictionary. Skipping...\")"
      ]
    },
    {
      "cell_type": "markdown",
      "source": [
        "# Task 2. Get (un)related words based on score"
      ],
      "metadata": {
        "id": "6lOffUF_IXTz"
      },
      "id": "6lOffUF_IXTz"
    },
    {
      "cell_type": "markdown",
      "source": [
        "## Assign target words"
      ],
      "metadata": {
        "id": "QcUlcuamKkHh"
      },
      "id": "QcUlcuamKkHh"
    },
    {
      "cell_type": "code",
      "source": [
        "# TODO: Include the rest of the target word(s)\n",
        "target_words = [\n",
        "    \"shark\",\n",
        "    \"mile\"\n",
        "\n",
        "]"
      ],
      "metadata": {
        "id": "-ISwW9ETIgEi"
      },
      "id": "-ISwW9ETIgEi",
      "execution_count": null,
      "outputs": []
    },
    {
      "cell_type": "markdown",
      "source": [
        "## Assign score threshold"
      ],
      "metadata": {
        "id": "cfLyyb6fLH5a"
      },
      "id": "cfLyyb6fLH5a"
    },
    {
      "cell_type": "code",
      "source": [
        "# TODO: Change the similarity score threshold\n",
        "# You should play around with it to find\n",
        "# what you think is the optimal score.\n",
        "score_related_min = 0.80\n",
        "score_unrelated_max =\n",
        "score_unrelated_min ="
      ],
      "metadata": {
        "id": "K6JPMdPkIo5c"
      },
      "id": "K6JPMdPkIo5c",
      "execution_count": null,
      "outputs": []
    },
    {
      "cell_type": "markdown",
      "source": [
        "## Assign the number of words to generate"
      ],
      "metadata": {
        "id": "433jrVN6LOYi"
      },
      "id": "433jrVN6LOYi"
    },
    {
      "cell_type": "code",
      "source": [
        "# TODO: Define the number top n words;\n",
        "#       replace the number with a different number (greater than or equal to 5)\n",
        "#       It just enough to help you see good word candidates\n",
        "top_n ="
      ],
      "metadata": {
        "id": "vkbKbNTlIrqz"
      },
      "id": "vkbKbNTlIrqz",
      "execution_count": null,
      "outputs": []
    },
    {
      "cell_type": "markdown",
      "source": [
        "## Get (un)related words"
      ],
      "metadata": {
        "id": "OM53OyrJMLg5"
      },
      "id": "OM53OyrJMLg5"
    },
    {
      "cell_type": "code",
      "source": [
        "# Open a file to save output\n",
        "\n",
        "# NOTE: Before you run this code\n",
        "#       Make sure you have set the correct _FILE_NAME\n",
        "#       Check the variable under the 'Setup' section\n",
        "\n",
        "with open(f\"{_FILE_NAME}.txt\", \"w\") as f:\n",
        "    f.write(f\"* -- Submission by {YOUR_NAME} -- *\\n\")\n",
        "    f.write(f\"* -- Selected model: {model_name} -- *\\n\")\n",
        "\n",
        "    for tw in target_words:\n",
        "        if tw not in model:\n",
        "            print(f\"'{tw}' not found in vocabulary. Skipping...\")\n",
        "            continue\n",
        "\n",
        "        word_vec = model[tw]\n",
        "\n",
        "        # Compute cosine similarity for all words in the vocabulary\n",
        "        similarities = {\n",
        "            other_word: 1 - cosine(word_vec, model[other_word])\n",
        "            for other_word in model.index_to_key if other_word != tw\n",
        "        }\n",
        "\n",
        "        # Get related words\n",
        "        related_words = sorted(\n",
        "            [(w, s) for w, s in similarities.items() if s > score_related_min],\n",
        "            key=lambda x: x[1],\n",
        "            reverse=True\n",
        "        )[:top_n]\n",
        "\n",
        "        # Get unrelated words\n",
        "        # TODO: Do the same thing as above (getting related_words).\n",
        "        #       Find words whose similarity score with the target word is\n",
        "        #       greater than or equal to `score_unrelated_min' and\n",
        "        #       smaller than or equal to `score_unrelated_max'\n",
        "        unrelated_words =\n",
        "\n",
        "        # Save and print related words\n",
        "        f.write(f\"\\n--- Top {top_n} related words to '{tw}' (score > {score_related_min}) ---\\n\")\n",
        "        print(f\"\\n--- Top {top_n} related words to '{tw}' (score > {score_related_min}) ---\")\n",
        "        for word, score in related_words:\n",
        "            line = f\"{word}: {score:.4f}\"\n",
        "            print(line)\n",
        "            f.write(line + \"\\n\")\n",
        "\n",
        "        # Save and print related words\n",
        "        # TODO: Save and print unrelated words\n",
        "        #\n",
        "        #\n",
        "        #\n",
        "        #\n",
        "        #\n",
        "        #"
      ],
      "metadata": {
        "id": "EOoUxXs-H8x3"
      },
      "id": "EOoUxXs-H8x3",
      "execution_count": null,
      "outputs": []
    },
    {
      "cell_type": "markdown",
      "source": [
        "# Save output\n"
      ],
      "metadata": {
        "id": "Wbai_BpSLrTE"
      },
      "id": "Wbai_BpSLrTE"
    },
    {
      "cell_type": "code",
      "source": [
        "# Check your file name\n",
        "print(_FILE_NAME)"
      ],
      "metadata": {
        "id": "bp0BpZObNlLf"
      },
      "id": "bp0BpZObNlLf",
      "execution_count": null,
      "outputs": []
    },
    {
      "cell_type": "code",
      "source": [
        "# TODO: Check your Downloads folder.\n",
        "# You should be able to find a .txt file with similarity scores printed out.\n",
        "\n",
        "# NOTE: Make sure you have set the correct _FILE_NAME\n",
        "#       Check the variable under the 'Setup' section\n",
        "files.download(f\"{_FILE_NAME}.txt\")\n",
        "print(f\"Output has been downloaded.\")"
      ],
      "metadata": {
        "id": "pJxYoSz8LqOh"
      },
      "id": "pJxYoSz8LqOh",
      "execution_count": null,
      "outputs": []
    },
    {
      "cell_type": "markdown",
      "source": [
        "# Bonus: Analogy\n",
        "Example: \"man is to woman as king is to ?\"\n",
        "This is analogous to: \"king\" - \"man\" + \"woman\""
      ],
      "metadata": {
        "id": "tI1mVEL-LjcN"
      },
      "id": "tI1mVEL-LjcN"
    },
    {
      "cell_type": "code",
      "source": [
        "analogy = model.most_similar(positive=[\"king\", \"woman\"], negative=[\"man\"], topn=1)\n",
        "# analogy = model.most_similar(positive=[\"king\", \"woman\"], negative=[\"man\"], topn=5)"
      ],
      "metadata": {
        "id": "wBxmhlbNLmpk"
      },
      "id": "wBxmhlbNLmpk",
      "execution_count": null,
      "outputs": []
    },
    {
      "cell_type": "code",
      "source": [
        "print(f\"Result of analogy 'man is to woman as king is to ?': {analogy[0]}\")\n",
        "# print(f\"Result of analogy 'man is to woman as king is to ?': {analogy}\")"
      ],
      "metadata": {
        "id": "pPwFpCpSLykO"
      },
      "id": "pPwFpCpSLykO",
      "execution_count": null,
      "outputs": []
    }
  ],
  "metadata": {
    "jupytext": {
      "cell_metadata_filter": "-all",
      "main_language": "python",
      "notebook_metadata_filter": "-all"
    },
    "colab": {
      "provenance": []
    },
    "language_info": {
      "name": "python"
    },
    "kernelspec": {
      "name": "python3",
      "display_name": "Python 3"
    }
  },
  "nbformat": 4,
  "nbformat_minor": 5
}