{
 "cells": [
  {
   "cell_type": "markdown",
   "id": "c5731c10",
   "metadata": {},
   "source": [
    "Assign the values to the variables.\n",
    "I should be able to run this code."
   ]
  },
  {
   "cell_type": "code",
   "execution_count": null,
   "id": "911acf6f",
   "metadata": {},
   "outputs": [],
   "source": [
    "# TODO: Assign a value to the variable with your name\n",
    "# NAME = \"Sanghee Kim\" # For me, it would look like this\n",
    "NAME = \"Sanghee Kim\""
   ]
  },
  {
   "cell_type": "code",
   "execution_count": null,
   "id": "c2c1f3f4",
   "metadata": {},
   "outputs": [],
   "source": [
    "# TODO: Replace/assign values with your\n",
    "#       linguistic research interest, experience, and programming knowledge.\n",
    "#       Also talk about some things you like!\n",
    "interest = \"Your topics of interest in linguistic research.\"\n",
    "experience = \"Your background or experience related to linguistic research.\"\n",
    "programming_language = \"Your familiarity with JavaScript, HTML, R, and Python. Say 'no experience' if none.\"\n",
    "favorite_fruit = \n",
    "hobby = "
   ]
  },
  {
   "cell_type": "code",
   "execution_count": null,
   "id": "c6f189dc",
   "metadata": {},
   "outputs": [],
   "source": [
    "# Print the assigned values with line breaks\n",
    "print(\n",
    "    f\"Name: {NAME}\\n\"\n",
    "    f\"Research Interest: {interest}\\n\"\n",
    "    f\"Experience: {experience}\\n\"\n",
    "    f\"Programming Languages: {programming_language}\\n\"\n",
    "    f\"Favorite Fruit: {favorite_fruit}\\n\"\n",
    "    f\"Hobby: {hobby}\"\n",
    ")"
   ]
  }
 ],
 "metadata": {
  "jupytext": {
   "cell_metadata_filter": "-all",
   "main_language": "python",
   "notebook_metadata_filter": "-all"
  }
 },
 "nbformat": 4,
 "nbformat_minor": 5
}
